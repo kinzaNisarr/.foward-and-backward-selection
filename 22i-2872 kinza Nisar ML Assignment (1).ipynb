{
 "cells": [
  {
   "cell_type": "markdown",
   "id": "331b43df",
   "metadata": {},
   "source": [
    "# KINZA NISAR 22i-2872"
   ]
  },
  {
   "cell_type": "markdown",
   "id": "66ef2771",
   "metadata": {},
   "source": [
    "# Step 1: Import Important Libraries"
   ]
  },
  {
   "cell_type": "code",
   "execution_count": 1,
   "id": "4ef8c5bf",
   "metadata": {},
   "outputs": [],
   "source": [
    "import pandas as pd\n",
    "from sklearn.linear_model import LinearRegression\n",
    "from sklearn.metrics import r2_score\n",
    "from sklearn.model_selection import train_test_split\n",
    "from sklearn.metrics import mean_squared_error\n",
    "import statsmodels.api as sm\n"
   ]
  },
  {
   "cell_type": "markdown",
   "id": "49de9084",
   "metadata": {},
   "source": [
    "# Step2: Snapshot of the Dataset"
   ]
  },
  {
   "cell_type": "markdown",
   "id": "0b16c523",
   "metadata": {},
   "source": [
    "Load the dataset\n",
    "\n",
    "Display the dataset structure and content"
   ]
  },
  {
   "cell_type": "code",
   "execution_count": 23,
   "id": "ea9e5bf8",
   "metadata": {},
   "outputs": [
    {
     "name": "stdout",
     "output_type": "stream",
     "text": [
      "  Page total likes;Type;Category;Post Month;Post Weekday;Post Hour;Paid;Lifetime Post Total Reach;Lifetime Post Total Impressions;Lifetime Engaged Users;Lifetime Post Consumers;Lifetime Post Consumptions;Lifetime Post Impressions by people who have liked your Page;Lifetime Post reach by people who like your Page;Lifetime People who have liked your Page and engaged with your post;comment;like;share;Total Interactions\n",
      "0  139441;Photo;2;12;4;3;0;2752;5091;178;109;159;...                                                                                                                                                                                                                                                                                                                                                                               \n",
      "1  139441;Status;2;12;3;10;0;10460;19057;1457;136...                                                                                                                                                                                                                                                                                                                                                                               \n",
      "2  139441;Photo;3;12;3;3;0;2413;4373;177;113;154;...                                                                                                                                                                                                                                                                                                                                                                               \n",
      "3  139441;Photo;2;12;2;10;1;50128;87991;2211;790;...                                                                                                                                                                                                                                                                                                                                                                               \n",
      "4  139441;Photo;2;12;2;3;0;7244;13594;671;410;580...                                                                                                                                                                                                                                                                                                                                                                               \n"
     ]
    }
   ],
   "source": [
    "# Load the dataset\n",
    "df = pd.read_csv('dataset_Facebook.csv', sep=';')\n",
    "print(data.head())"
   ]
  },
  {
   "cell_type": "code",
   "execution_count": 25,
   "id": "1a1b0e3e",
   "metadata": {},
   "outputs": [],
   "source": [
    "# Convert categorical columns to numerical values\n",
    "df_dummies = pd.get_dummies(df, drop_first=True)\n",
    "\n",
    "# Handle missing values\n",
    "df_dummies['Paid'].fillna(df_dummies['Paid'].mode()[0], inplace=True)\n",
    "df_dummies['like'].fillna(df_dummies['like'].median(), inplace=True)\n",
    "df_dummies['share'].fillna(df_dummies['share'].median(), inplace=True)\n",
    "\n",
    "# Separate predictors and target variable\n",
    "X = df_dummies.drop(\"Total Interactions\", axis=1)\n",
    "y = df_dummies[\"Total Interactions\"]\n"
   ]
  },
  {
   "cell_type": "markdown",
   "id": "30015635",
   "metadata": {},
   "source": [
    "# Apply Forward Selection: "
   ]
  },
  {
   "cell_type": "code",
   "execution_count": 34,
   "id": "d0d91876",
   "metadata": {},
   "outputs": [],
   "source": [
    "# Forward Selection function\n",
    "def forward_selection(X, y, significance_level=0.05):\n",
    "    initial_features = X.columns.tolist()\n",
    "    best_features = []\n",
    "    while len(initial_features) > 0:\n",
    "        remaining_features = list(set(initial_features) - set(best_features))\n",
    "        new_pval = pd.Series(index=remaining_features)\n",
    "        for new_column in remaining_features:\n",
    "            model = sm.OLS(y, sm.add_constant(X[best_features + [new_column]])).fit()\n",
    "            new_pval[new_column] = model.pvalues[new_column]\n",
    "        min_p_value = new_pval.min()\n",
    "        if min_p_value < significance_level:\n",
    "            best_features.append(new_pval.idxmin())\n",
    "        else:\n",
    "            break\n",
    "    return best_features\n",
    "\n"
   ]
  },
  {
   "cell_type": "markdown",
   "id": "dce0d613",
   "metadata": {},
   "source": [
    "# Apply Backward Elemination:"
   ]
  },
  {
   "cell_type": "code",
   "execution_count": 30,
   "id": "de161575",
   "metadata": {},
   "outputs": [],
   "source": [
    "# Backward Elimination function\n",
    "def backward_elimination(X, y, significance_level=0.05):\n",
    "    features = X.columns.tolist()\n",
    "    while len(features) > 0:\n",
    "        features_with_const = sm.add_constant(X[features])\n",
    "        p_values = sm.OLS(y, features_with_const).fit().pvalues[1:]\n",
    "        max_p_value = p_values.max()\n",
    "        if max_p_value >= significance_level:\n",
    "            excluded_feature = p_values.idxmax()\n",
    "            features.remove(excluded_feature)\n",
    "        else:\n",
    "            break\n",
    "    return features"
   ]
  },
  {
   "cell_type": "markdown",
   "id": "651b92a2",
   "metadata": {},
   "source": [
    "# Display the Modified Datasets:"
   ]
  },
  {
   "cell_type": "code",
   "execution_count": 35,
   "id": "b5430f73",
   "metadata": {},
   "outputs": [
    {
     "name": "stdout",
     "output_type": "stream",
     "text": [
      "Selected Features (Forward Selection): ['like', 'share', 'comment']\n"
     ]
    }
   ],
   "source": [
    "print(\"Selected Features (Forward Selection):\", selected_features_forward)"
   ]
  },
  {
   "cell_type": "code",
   "execution_count": 32,
   "id": "d5b03f12",
   "metadata": {},
   "outputs": [
    {
     "name": "stdout",
     "output_type": "stream",
     "text": [
      "Selected Features (Backward Elimination): ['comment', 'like', 'share']\n"
     ]
    }
   ],
   "source": [
    "print(\"Selected Features (Backward Elimination):\", selected_features_backward)"
   ]
  },
  {
   "cell_type": "code",
   "execution_count": null,
   "id": "15735647",
   "metadata": {},
   "outputs": [],
   "source": []
  }
 ],
 "metadata": {
  "kernelspec": {
   "display_name": "Python 3 (ipykernel)",
   "language": "python",
   "name": "python3"
  },
  "language_info": {
   "codemirror_mode": {
    "name": "ipython",
    "version": 3
   },
   "file_extension": ".py",
   "mimetype": "text/x-python",
   "name": "python",
   "nbconvert_exporter": "python",
   "pygments_lexer": "ipython3",
   "version": "3.9.13"
  }
 },
 "nbformat": 4,
 "nbformat_minor": 5
}
